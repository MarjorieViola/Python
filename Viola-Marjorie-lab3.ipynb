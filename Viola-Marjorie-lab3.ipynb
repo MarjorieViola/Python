{
 "cells": [
  {
   "cell_type": "markdown",
   "metadata": {},
   "source": [
    "195310    \n",
    "Viola    \n",
    "2 BS ME"
   ]
  },
  {
   "cell_type": "markdown",
   "metadata": {},
   "source": [
    "## Problem 1"
   ]
  },
  {
   "cell_type": "code",
   "execution_count": 72,
   "metadata": {},
   "outputs": [],
   "source": [
    "social_graph = {\n",
    "    \"@bongolpoc\":{\"first_name\":\"Joselito\",\n",
    "                  \"last_name\":\"Olpoc\",\n",
    "                  \"following\":[\n",
    "                  ]\n",
    "    },\n",
    "    \"@joaquin\":  {\"first_name\":\"Joaquin\",\n",
    "                  \"last_name\":\"Gonzales\",\n",
    "                  \"following\":[\n",
    "                      \"@chums\",\"@jobenilagan\"\n",
    "                  ]\n",
    "    },\n",
    "    \"@chums\" : {\"first_name\":\"Matthew\",\n",
    "                \"last_name\":\"Uy\",\n",
    "                \"following\":[\n",
    "                    \"@bongolpoc\",\"@miketan\",\"@rudyang\",\"@joeilagan\"\n",
    "                ]\n",
    "    },\n",
    "    \"@jobenilagan\":{\"first_name\":\"Joben\",\n",
    "                   \"last_name\":\"Ilagan\",\n",
    "                   \"following\":[\n",
    "                    \"@eeebeee\",\"@joeilagan\",\"@chums\",\"@joaquin\"\n",
    "                   ]\n",
    "    },\n",
    "    \"@joeilagan\":{\"first_name\":\"Joe\",\n",
    "                  \"last_name\":\"Ilagan\",\n",
    "                  \"following\":[\n",
    "                    \"@eeebeee\",\"@jobenilagan\",\"@chums\"\n",
    "                  ]\n",
    "    },\n",
    "    \"@eeebeee\":  {\"first_name\":\"Elizabeth\",\n",
    "                  \"last_name\":\"Ilagan\",\n",
    "                  \"following\":[\n",
    "                    \"@jobenilagan\",\"@joeilagan\"\n",
    "                  ]\n",
    "    },\n",
    "}"
   ]
  },
  {
   "cell_type": "code",
   "execution_count": 73,
   "metadata": {},
   "outputs": [],
   "source": [
    "def relationship_status(from_member, to_member):\n",
    "    first_mem_following = social_graph[from_member][\"following\"]\n",
    "    second_mem_following = social_graph[to_member][\"following\"]\n",
    "    i = from_member\n",
    "    j = to_member\n",
    "    try:\n",
    "        if i in second_mem_following and j in first_mem_following:\n",
    "            return \"friends\"\n",
    "        elif second_mem_following[0]== from_member or second_mem_following[1]==from_member or second_mem_following[2]==from_member or second_mem_following[3]==from_member:\n",
    "            return \"followed by\"\n",
    "        elif first_mem_following[0]==to_member or first_mem_following[1]==to_member or first_mem_following[2]==to_member or first_mem_following[3]==to_member:\n",
    "            return \"follower\"\n",
    "    except:\n",
    "        pass"
   ]
  },
  {
   "cell_type": "code",
   "execution_count": 74,
   "metadata": {},
   "outputs": [
    {
     "data": {
      "text/plain": [
       "'followed by'"
      ]
     },
     "execution_count": 74,
     "metadata": {},
     "output_type": "execute_result"
    }
   ],
   "source": [
    "relationship_status(\"@chums\",\"@jobenilagan\")"
   ]
  },
  {
   "cell_type": "code",
   "execution_count": 75,
   "metadata": {},
   "outputs": [
    {
     "data": {
      "text/plain": [
       "'friends'"
      ]
     },
     "execution_count": 75,
     "metadata": {},
     "output_type": "execute_result"
    }
   ],
   "source": [
    "relationship_status(\"@jobenilagan\",\"@joeilagan\")"
   ]
  },
  {
   "cell_type": "code",
   "execution_count": 76,
   "metadata": {},
   "outputs": [
    {
     "data": {
      "text/plain": [
       "'followed by'"
      ]
     },
     "execution_count": 76,
     "metadata": {},
     "output_type": "execute_result"
    }
   ],
   "source": [
    "relationship_status(\"@bongolpoc\",\"@chums\")"
   ]
  },
  {
   "cell_type": "code",
   "execution_count": 77,
   "metadata": {},
   "outputs": [],
   "source": [
    "relationship_status(\"@bongolpoc\",\"@jobenilagan\")"
   ]
  },
  {
   "cell_type": "code",
   "execution_count": 78,
   "metadata": {},
   "outputs": [
    {
     "data": {
      "text/plain": [
       "'followed by'"
      ]
     },
     "execution_count": 78,
     "metadata": {},
     "output_type": "execute_result"
    }
   ],
   "source": [
    "relationship_status(\"@bongolpoc\",\"@chums\")"
   ]
  },
  {
   "cell_type": "code",
   "execution_count": 79,
   "metadata": {},
   "outputs": [
    {
     "data": {
      "text/plain": [
       "'friends'"
      ]
     },
     "execution_count": 79,
     "metadata": {},
     "output_type": "execute_result"
    }
   ],
   "source": [
    "relationship_status(\"@chums\",\"@joeilagan\")"
   ]
  },
  {
   "cell_type": "code",
   "execution_count": 80,
   "metadata": {},
   "outputs": [
    {
     "data": {
      "text/plain": [
       "'friends'"
      ]
     },
     "execution_count": 80,
     "metadata": {},
     "output_type": "execute_result"
    }
   ],
   "source": [
    "relationship_status(\"@joeilagan\",\"@chums\")"
   ]
  },
  {
   "cell_type": "markdown",
   "metadata": {},
   "source": [
    "## Problem 2"
   ]
  },
  {
   "cell_type": "code",
   "execution_count": 61,
   "metadata": {},
   "outputs": [],
   "source": [
    "board1 = [\n",
    "['X','X','O'],\n",
    "['O','X','O'],\n",
    "['O','','X'],\n",
    "]\n",
    "\n",
    "board2 = [\n",
    "['X','X','O'],\n",
    "['O','X','O'],\n",
    "['','O','X'],\n",
    "]\n",
    "\n",
    "board3 = [\n",
    "['O','X','O'],\n",
    "['','O','X'],\n",
    "['X','X','O'],\n",
    "]\n",
    "\n",
    "board4 = [\n",
    "['X','X','X'],\n",
    "['O','X','O'],\n",
    "['O','','O'],\n",
    "]\n",
    "\n",
    "board5 = [\n",
    "['X','X','O'],\n",
    "['O','X','O'],\n",
    "['X','','O'],\n",
    "]\n",
    "\n",
    "board6 = [\n",
    "['X','X','O'],\n",
    "['O','X','O'],\n",
    "['X','',''],\n",
    "]\n"
   ]
  },
  {
   "cell_type": "code",
   "execution_count": 62,
   "metadata": {},
   "outputs": [],
   "source": [
    "def get_winner(board):\n",
    "    \n",
    "    ## guides to your approach:\n",
    "    list_X = ['X','X','X']\n",
    "    list_O = ['O','O','O']\n",
    "    set_X = ('X', 'X', 'X')\n",
    "    set_O = ('O', 'O', 'O')\n",
    "    winner = None\n",
    "    \n",
    "    ## check diagonals\n",
    "    ## - how do you go from left to right? (upper left to lower right)\n",
    "    diagonal_1 = [board[i][i]for i in range(3)] \n",
    "    try:\n",
    "        if diagonal_1 == list_X:\n",
    "            return \"X\"\n",
    "        elif diagonal_1 == list_O:\n",
    "            return\"O\"\n",
    "    except: \n",
    "        pass \n",
    "    \n",
    "    ## - how do you go from right to left? (upper right to lower left)\n",
    "    diagonal_2 = [board[3-1-i][i]for i in range(3)]\n",
    "    try:\n",
    "        if diagonal_2 == list_X:\n",
    "            return \"X\"\n",
    "        elif diagonal_2 == list_O:\n",
    "            return\"O\"\n",
    "    except: \n",
    "        pass \n",
    "    \n",
    "\n",
    "    ## check rows\n",
    "    try:\n",
    "        if board[0] == list_X or board[1] == list_X or board[2] == list_X:\n",
    "            return \"X\"\n",
    "        elif board[0] == list_O or board[1] == list_O or board[2] == list_O:\n",
    "            return\"O\"\n",
    "    except: \n",
    "        pass\n",
    "    \n",
    "    \n",
    "    ## check columns\n",
    "    vertical = [i for i in zip(*board)]\n",
    "    try:\n",
    "        if vertical [0] == set_X or vertical [1] == set_X or vertical [2] == set_X:\n",
    "            return \"X\"\n",
    "        elif vertical [0]== set_O or vertical[1] == set_O or vertical [2]== set_O:\n",
    "            return\"O\"\n",
    "    except: \n",
    "        pass \n",
    "     "
   ]
  },
  {
   "cell_type": "code",
   "execution_count": 65,
   "metadata": {},
   "outputs": [
    {
     "data": {
      "text/plain": [
       "'X'"
      ]
     },
     "execution_count": 65,
     "metadata": {},
     "output_type": "execute_result"
    }
   ],
   "source": [
    "get_winner(board1)"
   ]
  },
  {
   "cell_type": "code",
   "execution_count": 66,
   "metadata": {},
   "outputs": [
    {
     "data": {
      "text/plain": [
       "'X'"
      ]
     },
     "execution_count": 66,
     "metadata": {},
     "output_type": "execute_result"
    }
   ],
   "source": [
    "get_winner(board2)"
   ]
  },
  {
   "cell_type": "code",
   "execution_count": 67,
   "metadata": {},
   "outputs": [
    {
     "data": {
      "text/plain": [
       "'O'"
      ]
     },
     "execution_count": 67,
     "metadata": {},
     "output_type": "execute_result"
    }
   ],
   "source": [
    "get_winner(board3)"
   ]
  },
  {
   "cell_type": "code",
   "execution_count": 68,
   "metadata": {},
   "outputs": [
    {
     "data": {
      "text/plain": [
       "'X'"
      ]
     },
     "execution_count": 68,
     "metadata": {},
     "output_type": "execute_result"
    }
   ],
   "source": [
    "get_winner(board4)"
   ]
  },
  {
   "cell_type": "code",
   "execution_count": 69,
   "metadata": {},
   "outputs": [
    {
     "data": {
      "text/plain": [
       "'O'"
      ]
     },
     "execution_count": 69,
     "metadata": {},
     "output_type": "execute_result"
    }
   ],
   "source": [
    "get_winner(board5)"
   ]
  },
  {
   "cell_type": "code",
   "execution_count": 70,
   "metadata": {},
   "outputs": [],
   "source": [
    "get_winner(board6)"
   ]
  },
  {
   "cell_type": "markdown",
   "metadata": {},
   "source": [
    "## Problem 3"
   ]
  },
  {
   "cell_type": "code",
   "execution_count": 57,
   "metadata": {},
   "outputs": [
    {
     "name": "stdout",
     "output_type": "stream",
     "text": [
      "Enter source:dlsu\n",
      "Enter destination:admu\n"
     ]
    },
    {
     "data": {
      "text/plain": [
       "'ETA:65'"
      ]
     },
     "execution_count": 57,
     "metadata": {},
     "output_type": "execute_result"
    }
   ],
   "source": [
    "locations = {\n",
    "    \"admu\":{\n",
    "        \"name\":\"Ateneo de Manila University\",\n",
    "        \"latitude\":14.6394557,\n",
    "        \"longitude\":121.0758975        \n",
    "    },\n",
    "    \"upd\":{\n",
    "        \"name\":\"University of the Philippines-Diliman Campus\",\n",
    "        \"latitude\":14.6538519,\n",
    "        \"longitude\":121.0663348\n",
    "    },\n",
    "    \"dlsu\":{\n",
    "        \"name\":\"De La Salle University-Taft\",\n",
    "        \"latitude\":14.5647346,\n",
    "        \"longitude\":120.9909876\n",
    "\n",
    "    }, # <-- Note that Python does not complain about this extra comma. This is perfectly okay.\n",
    "       #     The creators of Python saw that dictionaries tend to be changed a lot, so allowing this is a\n",
    "       #     convenience for developers who need to add elements when needed.\n",
    "}\n",
    "\n",
    "legs = {\n",
    "     (\"upd\",\"admu\"):{\n",
    "         \"travel_time_mins\":10\n",
    "     },\n",
    "     (\"admu\",\"dlsu\"):{\n",
    "         \"travel_time_mins\":35\n",
    "     },\n",
    "     (\"dlsu\",\"upd\"):{\n",
    "         \"travel_time_mins\":55\n",
    "     }\n",
    "}\n",
    "\n",
    "\n",
    "\n",
    "source = input(\"Enter source:\")\n",
    "destination = input(\"Enter destination:\")\n",
    "\n",
    "\n",
    "def eta(source,destination):\n",
    "    # write your code here\n",
    "    if source == \"admu\" and destination == \"dlsu\":\n",
    "        return \"ETA:\" + str((legs[\"admu\",\"dlsu\"][\"travel_time_mins\"]))\n",
    "    elif source == \"admu\" and destination == \"upd\":\n",
    "        return \"ETA:\" + str((legs[\"admu\",\"dlsu\"][\"travel_time_mins\"]) + (legs[\"dlsu\",\"upd\"][\"travel_time_mins\"]))\n",
    "    elif source == destination:\n",
    "        return \"ETA: 100\"\n",
    "    else:\n",
    "        pass\n",
    "    \n",
    "    if source == \"upd\" and destination == \"admu\":\n",
    "        return \"ETA:\" + str((legs[\"upd\",\"admu\"][\"travel_time_mins\"]))\n",
    "    elif source == \"upd\" and destination == \"dlsu\":\n",
    "        return \"ETA:\" + str((legs[\"upd\",\"admu\"][\"travel_time_mins\"]) + (legs[\"admu\",\"dlsu\"][\"travel_time_mins\"]))\n",
    "    else:\n",
    "        pass\n",
    "    \n",
    "    if source == \"dlsu\" and destination == \"upd\":\n",
    "        return \"ETA:\" + str((legs[\"dlsu\",\"upd\"][\"travel_time_mins\"]))\n",
    "    elif source == \"dlsu\" and destination == \"admu\":\n",
    "        return \"ETA:\" + str((legs[\"dlsu\",\"upd\"][\"travel_time_mins\"]) + (legs[\"upd\",\"admu\"][\"travel_time_mins\"]))\n",
    "    else:\n",
    "        pass\n",
    "\n",
    "eta(source,destination)"
   ]
  },
  {
   "cell_type": "code",
   "execution_count": null,
   "metadata": {},
   "outputs": [],
   "source": []
  }
 ],
 "metadata": {
  "kernelspec": {
   "display_name": "Python 3",
   "language": "python",
   "name": "python3"
  },
  "language_info": {
   "codemirror_mode": {
    "name": "ipython",
    "version": 3
   },
   "file_extension": ".py",
   "mimetype": "text/x-python",
   "name": "python",
   "nbconvert_exporter": "python",
   "pygments_lexer": "ipython3",
   "version": "3.7.6"
  }
 },
 "nbformat": 4,
 "nbformat_minor": 4
}
