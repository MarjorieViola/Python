{
 "cells": [
  {
   "cell_type": "markdown",
   "metadata": {},
   "source": [
    "### Turning Tables"
   ]
  },
  {
   "cell_type": "code",
   "execution_count": 142,
   "metadata": {},
   "outputs": [
    {
     "name": "stdout",
     "output_type": "stream",
     "text": [
      "Enter number of rows:5\n",
      "<table>\n",
      "<tr class=\"lightyellowrow\"><td>1</td><td>1</td></tr>\n",
      "<tr class=\"whiterow\"><td>2</td><td>4</td></tr>\n",
      "<tr class=\"lightyellowrow\"><td>1</td><td>1</td></tr>\n",
      "<tr class=\"whiterow\"><td>2</td><td>4</td></tr>\n",
      "<tr class=\"lightyellowrow\"><td>1</td><td>1</td></tr>\n",
      "</table>\n"
     ]
    }
   ],
   "source": [
    "rows = int(input(\"Enter number of rows:\"))\n",
    "print(\"<table>\")\n",
    "for i in range (1,1+rows):\n",
    "    if i%2!=0:\n",
    "        print('<tr class=\"lightyellowrow\"><td>1</td><td>1</td></tr>') \n",
    "    elif i%2 ==0:\n",
    "        print('<tr class=\"whiterow\"><td>2</td><td>4</td></tr>')\n",
    "print(\"</table>\")"
   ]
  },
  {
   "cell_type": "markdown",
   "metadata": {},
   "source": [
    "### Dating Norms"
   ]
  },
  {
   "cell_type": "code",
   "execution_count": 144,
   "metadata": {},
   "outputs": [
    {
     "name": "stdout",
     "output_type": "stream",
     "text": [
      "Day:9\n",
      "Month:10\n",
      "Year:2020\n",
      "It is the 9th day of the month of October of the year 2020\n"
     ]
    }
   ],
   "source": [
    "day = int(input(\"Day:\"))\n",
    "month = int(input(\"Month:\"))\n",
    "year = int(input(\"Year:\"))\n",
    "\n",
    "if year%4 != 0 and month == 2 and day >= 29:\n",
    "    print(\"Date is not valid\")\n",
    "\n",
    "if month == 1:\n",
    "    m = \"January\" \n",
    "elif month == 2:\n",
    "    m = \"February\"   \n",
    "elif month == 3:\n",
    "    m = \"March\"\n",
    "elif month == 4:\n",
    "    m = \"April\" \n",
    "elif month == 5:\n",
    "    m = \"May\" \n",
    "elif month == 6:\n",
    "    m = \"June\" \n",
    "elif month == 7:\n",
    "    m = \"July\"\n",
    "elif month == 8:\n",
    "    m = \"August\" \n",
    "elif month == 9:\n",
    "    m = \"September\"\n",
    "elif month == 10:\n",
    "    m = \"October\"\n",
    "elif month == 11:\n",
    "    m = \"November\" \n",
    "elif month == 12:\n",
    "    m = \"December\" \n",
    "    \n",
    "if day == 1 or day == 21 or day == 31:\n",
    "    d = str(day) + \"st\"\n",
    "elif day == 2 or day == 22:\n",
    "    d = str(day) +\"nd\"\n",
    "elif day == 3 or day == 23:\n",
    "    d = str(day) +\"rd\"\n",
    "else: \n",
    "    d = str(day)+\"th\"\n",
    "\n",
    "\n",
    "print(\"It is the\",d,\"day of the month of\",m,\"of the year\", year)"
   ]
  },
  {
   "cell_type": "markdown",
   "metadata": {},
   "source": [
    "### Followers"
   ]
  },
  {
   "cell_type": "code",
   "execution_count": null,
   "metadata": {},
   "outputs": [],
   "source": [
    "def obedient(num):\n",
    "    n=1\n",
    "    while num >1:\n",
    "        a=n\n",
    "        #print(a)\n",
    "        b = n+1\n",
    "        #print(b)\n",
    "        c = n+2 \n",
    "        #print(c)\n",
    "        sum=a+b+c\n",
    "        #print(sum)\n",
    "        n+=1\n",
    "        if num == sum:\n",
    "            return True\n",
    "        else: \n",
    "            return False "
   ]
  },
  {
   "cell_type": "code",
   "execution_count": 136,
   "metadata": {},
   "outputs": [
    {
     "data": {
      "text/plain": [
       "False"
      ]
     },
     "execution_count": 136,
     "metadata": {},
     "output_type": "execute_result"
    }
   ],
   "source": [
    "obedient(100)"
   ]
  },
  {
   "cell_type": "markdown",
   "metadata": {},
   "source": [
    "### Go Forth and Multiply"
   ]
  },
  {
   "cell_type": "code",
   "execution_count": 139,
   "metadata": {},
   "outputs": [],
   "source": [
    "def multtable(num):\n",
    "    for i in range (1,num+1):\n",
    "        print(i, end=\"\\t\")\n",
    "    for j in range (1,num+1):\n",
    "        for k in range (1,num+1):\n",
    "            print(j*k, end =\"\\t\")\n",
    "        print(\"\\n\")"
   ]
  },
  {
   "cell_type": "code",
   "execution_count": 140,
   "metadata": {},
   "outputs": [
    {
     "name": "stdout",
     "output_type": "stream",
     "text": [
      "1\t2\t3\t4\t1\t2\t3\t4\t\n",
      "\n",
      "2\t4\t6\t8\t\n",
      "\n",
      "3\t6\t9\t12\t\n",
      "\n",
      "4\t8\t12\t16\t\n",
      "\n"
     ]
    }
   ],
   "source": [
    "multtable(4)"
   ]
  },
  {
   "cell_type": "code",
   "execution_count": 141,
   "metadata": {},
   "outputs": [
    {
     "name": "stdout",
     "output_type": "stream",
     "text": [
      "1\t2\t3\t4\t5\t6\t7\t8\t1\t2\t3\t4\t5\t6\t7\t8\t\n",
      "\n",
      "2\t4\t6\t8\t10\t12\t14\t16\t\n",
      "\n",
      "3\t6\t9\t12\t15\t18\t21\t24\t\n",
      "\n",
      "4\t8\t12\t16\t20\t24\t28\t32\t\n",
      "\n",
      "5\t10\t15\t20\t25\t30\t35\t40\t\n",
      "\n",
      "6\t12\t18\t24\t30\t36\t42\t48\t\n",
      "\n",
      "7\t14\t21\t28\t35\t42\t49\t56\t\n",
      "\n",
      "8\t16\t24\t32\t40\t48\t56\t64\t\n",
      "\n"
     ]
    }
   ],
   "source": [
    "multtable(8)"
   ]
  },
  {
   "cell_type": "markdown",
   "metadata": {},
   "source": [
    "### Avatar"
   ]
  },
  {
   "cell_type": "code",
   "execution_count": 146,
   "metadata": {},
   "outputs": [
    {
     "name": "stdout",
     "output_type": "stream",
     "text": [
      "Do you prefer (a) the mountains, (b) the city, or (c) the beach?1\n",
      "Sorry, you inputted a wrong letter. Please start again.\n",
      "Do you prefer (a) the mountains, (b) the city, or (c) the beach?A\n",
      "Sorry, you inputted a wrong letter. Please start again.\n",
      "Do you prefer (a) the mountains, (b) the city, or (c) the beach?a\n",
      "Do you prefer (a) yoghurt, (b) ice cream, or (c) gelato?a\n",
      "Do you prefer (a) reading, (b) singing, or (c) writing?a\n",
      "Do you prefer (a) sweet, (b) salty, or (c) spicy food?a\n",
      "Do you prefer (a) cats, (b) dogs, or (c) fish?a\n",
      "Your element is earth.\n"
     ]
    }
   ],
   "source": [
    "x = 0\n",
    "\n",
    "count_fire = 0 \n",
    "count_water = 0\n",
    "count_earth = 0 \n",
    "\n",
    "while x == 0: \n",
    "    place = input(\"Do you prefer (a) the mountains, (b) the city, or (c) the beach?\")\n",
    "    if place  == (\"a\"):\n",
    "        count_fire += 1\n",
    "        break\n",
    "    elif place == (\"b\"):\n",
    "        count_earth += 1\n",
    "        break\n",
    "    elif place == (\"c\"): \n",
    "        count_water += 1\n",
    "        break\n",
    "    else:\n",
    "        print(\"Sorry, you inputted a wrong letter. Please start again.\")\n",
    "        continue\n",
    "\n",
    "while x == 0:\n",
    "    sweets = input(\"Do you prefer (a) yoghurt, (b) ice cream, or (c) gelato?\")\n",
    "    if place  == (\"a\"):\n",
    "        count_earth += 1\n",
    "        break\n",
    "    elif place == (\"b\"):\n",
    "        count_water += 1\n",
    "        break\n",
    "    elif place == (\"c\"): \n",
    "        count_fire += 1\n",
    "        break\n",
    "    else:\n",
    "        print(\"Sorry, you inputted a wrong letter. Please start again.\")\n",
    "        continue\n",
    "\n",
    "while x == 0:\n",
    "    hobby = input(\"Do you prefer (a) reading, (b) singing, or (c) writing?\")\n",
    "    if place  == (\"a\"):\n",
    "        count_water += 1\n",
    "        break\n",
    "    elif place == (\"b\"):\n",
    "        count_fire += 1\n",
    "        break\n",
    "    elif place == (\"c\"): \n",
    "        count_earth += 1\n",
    "        break\n",
    "    else:\n",
    "        print(\"Sorry, you inputted a wrong letter. Please start again.\")\n",
    "        continue\n",
    "    \n",
    "while x == 0:\n",
    "    taste = input(\"Do you prefer (a) sweet, (b) salty, or (c) spicy food?\")\n",
    "    if place  == (\"a\"):\n",
    "        count_earth += 1\n",
    "        break\n",
    "    elif place == (\"b\"):\n",
    "        count_water += 1\n",
    "        break\n",
    "    elif place == (\"c\"): \n",
    "        count_fire += 1\n",
    "        break\n",
    "    else:\n",
    "        print(\"Sorry, you inputted a wrong letter. Please start again.\")\n",
    "        continue\n",
    "    \n",
    "while x == 0:\n",
    "    pet = input(\"Do you prefer (a) cats, (b) dogs, or (c) fish?\")\n",
    "    if place  == (\"a\"):\n",
    "        count_earth += 1\n",
    "        break\n",
    "    elif place == (\"b\"):\n",
    "        count_fire += 1\n",
    "        break\n",
    "    elif place == (\"c\"): \n",
    "        count_water += 1\n",
    "        break\n",
    "    else:\n",
    "        print(\"Sorry, you inputted a wrong letter. Please start again.\")\n",
    "        continue\n",
    "\n",
    "if count_fire > count_water and count_fire > count_earth:\n",
    "    print(\"Your element is fire\")\n",
    "elif count_water > count_fire and count_water > count_earth:\n",
    "    print(\"Your element is water\")\n",
    "elif count_earth > count_water and count_earth > count_fire:\n",
    "    print(\"Your element is earth.\")"
   ]
  },
  {
   "cell_type": "code",
   "execution_count": null,
   "metadata": {},
   "outputs": [],
   "source": []
  }
 ],
 "metadata": {
  "kernelspec": {
   "display_name": "Python 3",
   "language": "python",
   "name": "python3"
  },
  "language_info": {
   "codemirror_mode": {
    "name": "ipython",
    "version": 3
   },
   "file_extension": ".py",
   "mimetype": "text/x-python",
   "name": "python",
   "nbconvert_exporter": "python",
   "pygments_lexer": "ipython3",
   "version": "3.7.6"
  }
 },
 "nbformat": 4,
 "nbformat_minor": 4
}
