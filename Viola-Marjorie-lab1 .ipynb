{
 "cells": [
  {
   "cell_type": "markdown",
   "metadata": {},
   "source": [
    "Student ID: 195310  \n",
    "Surname: Viola  \n",
    "Year and Course: 2 BS ME  "
   ]
  },
  {
   "cell_type": "markdown",
   "metadata": {},
   "source": [
    "### Problem 1"
   ]
  },
  {
   "cell_type": "code",
   "execution_count": null,
   "metadata": {},
   "outputs": [],
   "source": [
    "def dollars_to_pesos(usd):\n",
    "    pesos = 50*usd\n",
    "    return pesos "
   ]
  },
  {
   "cell_type": "code",
   "execution_count": null,
   "metadata": {},
   "outputs": [],
   "source": [
    "usd = float (input(\"Enter the amount in US Dollars:\"))  \n",
    "\n",
    "pesos = dollars_to_pesos(usd)\n",
    "\n",
    "print(usd,\"US dollar(s)=\",pesos,\"Philippine Pesos\") "
   ]
  },
  {
   "cell_type": "markdown",
   "metadata": {},
   "source": [
    "### Problem 2"
   ]
  },
  {
   "cell_type": "code",
   "execution_count": null,
   "metadata": {},
   "outputs": [],
   "source": [
    "\n",
    "a = int(input(\"Please enter the first number:\"))\n",
    "b = int(input(\"Please enter the second number:\"))\n",
    "\n",
    "\n",
    "if a<0: \n",
    "    print(\"Sorry, the two numbers must be positive\")\n",
    "elif b<0:\n",
    "    print(\"Sorry, the two numbers must be positive\")\n",
    "else:\n",
    "    print(a+b)\n",
    "    print(a-b)\n",
    "    print(a*b)\n",
    "    print(int(a/b))\n",
    "    print(a%b)"
   ]
  },
  {
   "cell_type": "markdown",
   "metadata": {},
   "source": [
    "### Problem 3"
   ]
  },
  {
   "cell_type": "code",
   "execution_count": 7,
   "metadata": {},
   "outputs": [],
   "source": [
    "def convert_cm_to_m (cm): \n",
    "    m = cm*0.01\n",
    "    return m\n",
    "def compute_bmi (kg,m):\n",
    "    bmi = kg/(m*m)\n",
    "    return bmi "
   ]
  },
  {
   "cell_type": "code",
   "execution_count": null,
   "metadata": {},
   "outputs": [],
   "source": [
    "kg = float(input(\"Enter kg\"))\n",
    "cm = float(input(\"Enter cm\"))\n",
    "\n",
    "m = convert_cm_to_m (cm)\n",
    "bmi = compute_bmi (kg,m) \n",
    "\n",
    "print(\"BMI:\", bmi)"
   ]
  }
 ],
 "metadata": {
  "kernelspec": {
   "display_name": "Python 3",
   "language": "python",
   "name": "python3"
  },
  "language_info": {
   "codemirror_mode": {
    "name": "ipython",
    "version": 3
   },
   "file_extension": ".py",
   "mimetype": "text/x-python",
   "name": "python",
   "nbconvert_exporter": "python",
   "pygments_lexer": "ipython3",
   "version": "3.7.6"
  }
 },
 "nbformat": 4,
 "nbformat_minor": 4
}
