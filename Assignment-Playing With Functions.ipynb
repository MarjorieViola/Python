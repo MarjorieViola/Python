{
 "cells": [
  {
   "cell_type": "markdown",
   "metadata": {},
   "source": [
    "## Playing With Functions"
   ]
  },
  {
   "cell_type": "markdown",
   "metadata": {},
   "source": [
    "These exercises are designed to strengthen your grasp on basic programming concepts. Read what is required of you carefully. For example, instructions to **return** values are not the same as those of **printing**.\n",
    "\n",
    "Make sure that cells are in **script mode** (not **interactive mode**).\n"
   ]
  },
  {
   "cell_type": "markdown",
   "metadata": {},
   "source": [
    "# 1\n",
    "### 1 point\n",
    "\n",
    "Write a function that takes the circumference of a circle as a parameter and **returns** the area of that circle.\n",
    "\n",
    "Note: Assume the value of pi is 3.1416"
   ]
  },
  {
   "cell_type": "code",
   "execution_count": 14,
   "metadata": {},
   "outputs": [],
   "source": [
    "def radius (circumference):\n",
    "    r = circumference/(2*3.1416)\n",
    "    return r\n",
    "\n",
    "def area_circle (r):\n",
    "    area = 3.1416*(r*r)\n",
    "    return area\n",
    "    "
   ]
  },
  {
   "cell_type": "code",
   "execution_count": 15,
   "metadata": {},
   "outputs": [
    {
     "name": "stdout",
     "output_type": "stream",
     "text": [
      "Circumference of circle:10\n",
      "7.957728545963841\n"
     ]
    }
   ],
   "source": [
    "circumference = float(input(\"Circumference of circle:\"))\n",
    "r = radius(circumference)\n",
    "area = area_circle (r)\n",
    "\n",
    "print(area)"
   ]
  },
  {
   "cell_type": "markdown",
   "metadata": {},
   "source": [
    "# 2\n",
    "### 2 points\n",
    "\n",
    "Write a function that takes a 5-character string as a parameter and **returns** the string in reverse order.\n",
    "\n",
    "e.g. reverseString(\"Hello\") -> \"olleH\""
   ]
  },
  {
   "cell_type": "code",
   "execution_count": 13,
   "metadata": {},
   "outputs": [
    {
     "name": "stdout",
     "output_type": "stream",
     "text": [
      "Please enter a five letter word:world\n",
      "dlrow\n"
     ]
    }
   ],
   "source": [
    "five_char_string = input(\"Please enter a five letter word:\")\n",
    "\n",
    "def reverse_string (five_char_string):\n",
    "    reverse = \"\"\n",
    "    for i in five_char_string: \n",
    "        reverse = i+reverse\n",
    "    return reverse \n",
    "\n",
    "if len(five_char_string) == 5:\n",
    "    reverse = reverse_string(five_char_string)\n",
    "    print(reverse)\n",
    "\n",
    "elif len(five_char_string) > 5 or len(five_char_string) < 5:\n",
    "    print(\"The word must contain 5 letters\")\n"
   ]
  },
  {
   "cell_type": "markdown",
   "metadata": {},
   "source": [
    "# 3\n",
    "### 2 points\n",
    "\n",
    "Write a function that takes a positive integer as input and **returns** the sum of all positive integers smaller than and including the number itself.\n",
    "\n",
    "e.g. backAddition(5) -> 1 + 2 + 3 + 4 + 5 -> 15"
   ]
  },
  {
   "cell_type": "code",
   "execution_count": 16,
   "metadata": {},
   "outputs": [
    {
     "name": "stdout",
     "output_type": "stream",
     "text": [
      "Please enter a positive number:5\n",
      "15\n"
     ]
    }
   ],
   "source": [
    "def addition_num (num):\n",
    "    sum=0\n",
    "    for i in range (1,num+1):\n",
    "        sum = i + sum\n",
    "        total = sum\n",
    "    return total\n",
    "        \n",
    "num = int(input(\"Please enter a positive number:\"))\n",
    "addition_num(num)\n",
    "total = addition_num (num)\n",
    "print(total)"
   ]
  },
  {
   "cell_type": "markdown",
   "metadata": {},
   "source": [
    "# 4\n",
    "### 5 points (all or nothing)\n",
    "\n",
    "The sum of the squares of the first ten natural numbers is,\n",
    "12 + 22 + ... + 102 = 385\n",
    "\n",
    "The square of the sum of the first ten natural numbers is,\n",
    "(1 + 2 + ... + 10)2 = 552 = 3025\n",
    "\n",
    "Hence the difference between the sum of the squares of the first ten natural numbers and the square of the sum is 3025 − 385 = 2640.\n",
    "\n",
    "Find the difference between the sum of the squares of the first one hundred natural numbers and the square of the sum.\n",
    "\n",
    "Show code that generates the answer."
   ]
  },
  {
   "cell_type": "code",
   "execution_count": 17,
   "metadata": {},
   "outputs": [],
   "source": [
    "def sum_of_first_hundred ():\n",
    "    sum=0\n",
    "    for i in range (1,101):\n",
    "        sum = i + sum\n",
    "        total_sum_hundred = sum\n",
    "    return total_sum_hundred\n",
    "\n",
    "def square_of_sum (total_sum_hundred):\n",
    "    square = total_sum_hundred**2\n",
    "    return square\n",
    "\n",
    "def sum_of_squares ():\n",
    "    sum = 0 \n",
    "    for i in range (1,101):\n",
    "        sum = i**2 + sum \n",
    "        total_sum_squares = sum\n",
    "    return (total_sum_squares)\n"
   ]
  },
  {
   "cell_type": "code",
   "execution_count": 18,
   "metadata": {},
   "outputs": [
    {
     "name": "stdout",
     "output_type": "stream",
     "text": [
      "The sum of the squares of the first ten natural numbers is 338350\n",
      "The square of the sum of the first 100 natural numbers is 25502500\n",
      "The difference between the sum of the squares of the first one hundred natural numbers and the square of the sum is\n",
      "25164150\n"
     ]
    }
   ],
   "source": [
    "sum_of_first_hundred()\n",
    "total_sum_hundred = sum_of_first_hundred ()\n",
    "\n",
    "squared_final = square_of_sum (total_sum_hundred)\n",
    "\n",
    "sum_squared_final = sum_of_squares ()\n",
    "\n",
    "final_diff = squared_final - sum_squared_final \n",
    "\n",
    "print(\"The sum of the squares of the first ten natural numbers is\",sum_squared_final)\n",
    "print(\"The square of the sum of the first 100 natural numbers is\",squared_final)\n",
    "print(\"The difference between the sum of the squares of the first one hundred natural numbers and the square of the sum is\")\n",
    "print (final_diff)\n",
    "   "
   ]
  },
  {
   "cell_type": "markdown",
   "metadata": {},
   "source": [
    "# 5\n",
    "### 5 points \n",
    "\n",
    "Write a function that allows a self-service Point of Sale system to give you the exact change when you pay in cash.\n",
    "\n",
    "The function should accept the number of cents entered by the caller of the function. It then should **display** the denominations of the coins that should be given to the buyer. The change should use as few coins as possible. Assume that the Point of Sale system is loaded with 1 cent, 5 cents, 25 cents and 1 peso coins.\n",
    "\n",
    "Write main program code that accepts the number of cents manually through user input and calls the function written above.\n",
    "\n",
    "**Input:** The program accepts one positive integer, ***cents***, corresponding to the total change to be given by the Point of Sale system.\n",
    "\n",
    "**Output:** The number of 1 peso, 50 cents, 25 cents and 1 cent coins respectively. There should be one output per line.\n",
    "\n",
    "**Sample Input 1:**  \n",
    "105\n",
    "\n",
    "**Sample Output 1**  \n",
    "1  \n",
    "0  \n",
    "0  \n",
    "1  \n",
    "0  \n",
    "\n",
    "**Sample Input 2:**  \n",
    "69  \n",
    "\n",
    "**Sample Output 2:**  \n",
    "0  \n",
    "2  \n",
    "1  \n",
    "1  \n",
    "4  \n",
    "\n",
    "\n",
    "\n",
    "\n",
    "\n"
   ]
  },
  {
   "cell_type": "code",
   "execution_count": 19,
   "metadata": {},
   "outputs": [
    {
     "name": "stdout",
     "output_type": "stream",
     "text": [
      "Enter amount in cents:69\n",
      "0\n",
      "2\n",
      "1\n",
      "1\n",
      "4\n"
     ]
    }
   ],
   "source": [
    "cents = int(input(\"Enter amount in cents:\"))\n",
    "\n",
    "\n",
    "def point_of_sale(cents):\n",
    "    count_peso = 0 \n",
    "    count_25_cents = 0\n",
    "    count_10_cents = 0\n",
    "    count_5_cents = 0 \n",
    "    count_1_cents = 0\n",
    "    while cents > 0:\n",
    "        if cents >= 100:\n",
    "            count_peso = count_peso + 1\n",
    "            cents = cents - 100\n",
    "        elif cents >= 25 and cents <100:\n",
    "            count_25_cents = count_25_cents + 1\n",
    "            cents = cents - 25\n",
    "        elif cents >= 10 and cents < 25: \n",
    "            count_10_cents = count_10_cents + 1\n",
    "            cents = cents - 10\n",
    "        elif cents >= 5 and cents < 10: \n",
    "            count_5_cents = count_5_cents + 1\n",
    "            cents = cents - 5\n",
    "        elif cents >= 1 and cents < 5: \n",
    "            count_1_cents = count_1_cents + 1\n",
    "            cents = cents - 1\n",
    "\n",
    "                \n",
    "    print(count_peso)\n",
    "    print(count_25_cents)\n",
    "    print(count_10_cents)\n",
    "    print(count_5_cents)\n",
    "    print(count_1_cents)\n",
    "    \n",
    "point_of_sale(cents)"
   ]
  },
  {
   "cell_type": "code",
   "execution_count": null,
   "metadata": {},
   "outputs": [],
   "source": []
  }
 ],
 "metadata": {
  "kernelspec": {
   "display_name": "Python 3",
   "language": "python",
   "name": "python3"
  },
  "language_info": {
   "codemirror_mode": {
    "name": "ipython",
    "version": 3
   },
   "file_extension": ".py",
   "mimetype": "text/x-python",
   "name": "python",
   "nbconvert_exporter": "python",
   "pygments_lexer": "ipython3",
   "version": "3.7.6"
  }
 },
 "nbformat": 4,
 "nbformat_minor": 2
}
